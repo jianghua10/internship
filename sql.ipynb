{
 "cells": [
  {
   "cell_type": "code",
   "execution_count": 1,
   "metadata": {},
   "outputs": [],
   "source": [
    "import mysql.connector\n",
    "import pandas as pd\n",
    "mydb = mysql.connector.connect(\n",
    "    host = 'localhost',\n",
    "    user = 'root',\n",
    "    passwd = 'jh394828',\n",
    "    database = 'Turningprocess',\n",
    ")\n",
    "\n",
    "mycursor = mydb.cursor()\n",
    "mycursor.execute('select * from zer3values')\n",
    "zer3values = mycursor.fetchall()\n",
    "zer3values = list(zer3values)\n",
    "data = pd.DataFrame(zer3values,columns=['idZER3val','TimeStamp',\\\n",
    "        'MeanForceX','MeanForceY','MeanForceZ','StdForceX','StdForceY',\\\n",
    "        'StdForceZ','MeanTemp1','MeanTemp2','MeanTemp3','StdTemp1',\\\n",
    "        'StdTemp2','StdTemp3','MeanPower','StdPower','MeanCurrent',\\\n",
    "        'StdCurrent','Ra','Rt','Rz','LaserMean','LaserOnOff',\\\n",
    "        'ExperimentData_idcut'])\n",
    "\n",
    "mycursor.execute('select * from experimentdata')\n",
    "experimentdata = mycursor.fetchall()\n",
    "experimentdata = list(experimentdata)\n",
    "data_experiment = pd.DataFrame(experimentdata,columns=['idcut','Date','Time','Generation','Offspring','DiameterCNC',\\\n",
    "                    'WorkpieceLength','MeasuredD1','MeasuredD2','MeasuredD3','CuttingInsert','Edge','Gamma',\\\n",
    "                    'Vc','f','ap','ChippedVolume','HS','NS','SK','Aufbau','Ra1','Ra2','Ra3','Rz1','Rz2','Rz3',\\\n",
    "                    'Rt1','Rt2','Rt3','ChipFormation','ChipFormationMR','HRC1','HRC2','HRC3','Remarks','RemarksMR',\\\n",
    "                    'Workpiece_idworkpiece','Machine_idmachine','Tool_idtool'])\n",
    "mycursor.close()\n",
    "mydb.close()"
   ]
  },
  {
   "cell_type": "code",
   "execution_count": 23,
   "metadata": {
    "scrolled": false
   },
   "outputs": [],
   "source": [
    "import numpy as np\n",
    "timestamp = []\n",
    "toolwear=[]\n",
    "lossdata=[]\n",
    "for i in data_experiment.idcut:\n",
    "    if not data[data.ExperimentData_idcut==i].empty:\n",
    "        #添加时间\n",
    "        temp_dataExp = data_experiment.iloc[i-1]\n",
    "        if (temp_dataExp.Vc!=0) and (temp_dataExp.f!=0):\n",
    "            temp_dataZer = data[data.ExperimentData_idcut==i].iloc[-1]    \n",
    "            toolwear.append((temp_dataExp.HS+temp_dataExp.NS+temp_dataExp.SK)/3.)\n",
    "            if len(timestamp) == 0:\n",
    "                finaldata = pd.concat([temp_dataExp,temp_dataZer]).to_frame().T\n",
    "                timestamp.append(float(temp_dataZer['TimeStamp']))\n",
    "                temp_Vc = float(temp_dataExp['Vc'])\n",
    "                temp_f = float(temp_dataExp['f'])\n",
    "                temp_Gamma = float(temp_dataExp['Gamma'])\n",
    "            elif (temp_Vc == float(temp_dataExp['Vc'])) and (temp_f==float(temp_dataExp['f'])) \\\n",
    "                                                        and (temp_Gamma==float(temp_dataExp['Gamma'])):\n",
    "                temp_time = timestamp[-1] + float(temp_dataZer['TimeStamp'])\n",
    "                timestamp.append(temp_time)\n",
    "            else:\n",
    "                timestamp.append(float(temp_dataZer['TimeStamp']))\n",
    "                temp_Vc = float(temp_dataExp['Vc'])\n",
    "                temp_f = float(temp_dataExp['f'])\n",
    "                temp_Gamma = float(temp_dataExp['Gamma'])\n",
    "            #合并   \n",
    "            if i<=2:\n",
    "                pass\n",
    "            else:\n",
    "                finaldata = finaldata.append(pd.concat([temp_dataExp,temp_dataZer]).to_frame().T,ignore_index=True)\n",
    "    else:\n",
    "        lossdata.append(i)\n",
    "toolwear = np.array(toolwear).reshape(len(toolwear),1)\n",
    "toolwear = pd.DataFrame(toolwear,columns=['ToolWear'])\n",
    "timestamp = np.array(timestamp).reshape(len(timestamp),1)\n",
    "timestamp = pd.DataFrame(timestamp,columns=['CuttingTime'])\n",
    "finaldata = finaldata.loc[:,['Vc','f','Gamma','MeanForceX','MeanForceY','MeanForceZ','MeanTemp1','MeanTemp2',\\\n",
    "                            'MeanTemp3','MeanCurrent','MeanPower']]\n",
    "finaldata = pd.concat([finaldata,timestamp],axis=1)\n",
    "finaldata = pd.concat([finaldata,toolwear],axis=1)\n",
    "finaldata.index = finaldata.index+1\n",
    "finaldata.to_csv(r'/Users/jianghua/Desktop/hj_internship/data/ordered_data.csv',index_label='index_label')"
   ]
  }
 ],
 "metadata": {
  "kernelspec": {
   "display_name": "Python 3",
   "language": "python",
   "name": "python3"
  },
  "language_info": {
   "codemirror_mode": {
    "name": "ipython",
    "version": 3
   },
   "file_extension": ".py",
   "mimetype": "text/x-python",
   "name": "python",
   "nbconvert_exporter": "python",
   "pygments_lexer": "ipython3",
   "version": "3.6.8"
  }
 },
 "nbformat": 4,
 "nbformat_minor": 2
}
